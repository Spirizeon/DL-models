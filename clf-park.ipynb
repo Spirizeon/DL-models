{
 "cells": [
  {
   "cell_type": "code",
   "execution_count": 1,
   "id": "d5c42f46",
   "metadata": {
    "_cell_guid": "b1076dfc-b9ad-4769-8c92-a6c4dae69d19",
    "_uuid": "8f2839f25d086af736a60e9eeb907d3b93b6e0e5",
    "execution": {
     "iopub.execute_input": "2023-12-03T13:03:36.503610Z",
     "iopub.status.busy": "2023-12-03T13:03:36.502534Z",
     "iopub.status.idle": "2023-12-03T13:04:18.284703Z",
     "shell.execute_reply": "2023-12-03T13:04:18.282535Z"
    },
    "papermill": {
     "duration": 41.792836,
     "end_time": "2023-12-03T13:04:18.289059",
     "exception": false,
     "start_time": "2023-12-03T13:03:36.496223",
     "status": "completed"
    },
    "tags": []
   },
   "outputs": [],
   "source": [
    "# This Python 3 environment comes with many helpful analytics libraries installed\n",
    "# It is defined by the kaggle/python Docker image: https://github.com/kaggle/docker-python\n",
    "# For example, here's several helpful packages to load\n",
    "\n",
    "import numpy as np # linear algebra\n",
    "import pandas as pd # data processing, CSV file I/O (e.g. pd.read_csv)\n",
    "from skimage.io import imread\n",
    "from skimage.transform import resize\n",
    "from sklearn.model_selection import train_test_split\n",
    "from sklearn.model_selection import GridSearchCV\n",
    "from sklearn.svm import SVC\n",
    "from sklearn.metrics import accuracy_score\n",
    "\n",
    "data = []\n",
    "labels = []\n",
    "counter = 0\n",
    "\n",
    "# Input data files are available in the read-only \"../input/\" directory\n",
    "# For example, running this (by clicking run or pressing Shift+Enter) will list all files under the input directory\n",
    "\n",
    "import os\n",
    "for dirname, _, filenames in os.walk('/kaggle/input'):\n",
    "    for filename in filenames:\n",
    "        img_path = os.path.join(dirname,filename)\n",
    "        img = imread(img_path)\n",
    "        img = resize(img,(15,15))\n",
    "        data.append(img.flatten())\n",
    "        labels.append(counter)\n",
    "    counter+=1\n",
    "        \n",
    "data = np.asarray(data)\n",
    "labels = np.asarray(labels)\n",
    "\n",
    "\n",
    "# You can write up to 20GB to the current directory (/kaggle/working/) that gets preserved as output when you create a version using \"Save & Run All\" \n",
    "# You can also write temporary files to /kaggle/temp/, but they won't be saved outside of the current session"
   ]
  },
  {
   "cell_type": "code",
   "execution_count": 2,
   "id": "a4af5141",
   "metadata": {
    "execution": {
     "iopub.execute_input": "2023-12-03T13:04:18.299389Z",
     "iopub.status.busy": "2023-12-03T13:04:18.298632Z",
     "iopub.status.idle": "2023-12-03T13:04:18.337960Z",
     "shell.execute_reply": "2023-12-03T13:04:18.336134Z"
    },
    "papermill": {
     "duration": 0.049015,
     "end_time": "2023-12-03T13:04:18.342165",
     "exception": false,
     "start_time": "2023-12-03T13:04:18.293150",
     "status": "completed"
    },
    "tags": []
   },
   "outputs": [],
   "source": [
    "#train /test split\n",
    "\n",
    "#test_size is fraction of entire dataset (proportion)\n",
    "x_train,x_test,y_train,y_test = train_test_split(data, labels, test_size=0.2,shuffle=True,stratify = labels)"
   ]
  },
  {
   "cell_type": "code",
   "execution_count": 3,
   "id": "9be7f369",
   "metadata": {
    "execution": {
     "iopub.execute_input": "2023-12-03T13:04:18.353076Z",
     "iopub.status.busy": "2023-12-03T13:04:18.352541Z",
     "iopub.status.idle": "2023-12-03T13:04:18.360187Z",
     "shell.execute_reply": "2023-12-03T13:04:18.359083Z"
    },
    "papermill": {
     "duration": 0.015335,
     "end_time": "2023-12-03T13:04:18.362685",
     "exception": false,
     "start_time": "2023-12-03T13:04:18.347350",
     "status": "completed"
    },
    "tags": []
   },
   "outputs": [],
   "source": [
    "#train classifier\n",
    "classifier = SVC()\n",
    "parameters = [{'gamma':[0.01,0.001,0.0001],'C':[1,10,100,1000]}]\n",
    "grid_search = GridSearchCV(classifier, parameters)"
   ]
  },
  {
   "cell_type": "code",
   "execution_count": 4,
   "id": "cb776ddf",
   "metadata": {
    "execution": {
     "iopub.execute_input": "2023-12-03T13:04:18.372438Z",
     "iopub.status.busy": "2023-12-03T13:04:18.371913Z",
     "iopub.status.idle": "2023-12-03T13:08:01.615801Z",
     "shell.execute_reply": "2023-12-03T13:08:01.614271Z"
    },
    "papermill": {
     "duration": 223.255961,
     "end_time": "2023-12-03T13:08:01.622269",
     "exception": false,
     "start_time": "2023-12-03T13:04:18.366308",
     "status": "completed"
    },
    "tags": []
   },
   "outputs": [
    {
     "data": {
      "text/html": [
       "<style>#sk-container-id-1 {color: black;background-color: white;}#sk-container-id-1 pre{padding: 0;}#sk-container-id-1 div.sk-toggleable {background-color: white;}#sk-container-id-1 label.sk-toggleable__label {cursor: pointer;display: block;width: 100%;margin-bottom: 0;padding: 0.3em;box-sizing: border-box;text-align: center;}#sk-container-id-1 label.sk-toggleable__label-arrow:before {content: \"▸\";float: left;margin-right: 0.25em;color: #696969;}#sk-container-id-1 label.sk-toggleable__label-arrow:hover:before {color: black;}#sk-container-id-1 div.sk-estimator:hover label.sk-toggleable__label-arrow:before {color: black;}#sk-container-id-1 div.sk-toggleable__content {max-height: 0;max-width: 0;overflow: hidden;text-align: left;background-color: #f0f8ff;}#sk-container-id-1 div.sk-toggleable__content pre {margin: 0.2em;color: black;border-radius: 0.25em;background-color: #f0f8ff;}#sk-container-id-1 input.sk-toggleable__control:checked~div.sk-toggleable__content {max-height: 200px;max-width: 100%;overflow: auto;}#sk-container-id-1 input.sk-toggleable__control:checked~label.sk-toggleable__label-arrow:before {content: \"▾\";}#sk-container-id-1 div.sk-estimator input.sk-toggleable__control:checked~label.sk-toggleable__label {background-color: #d4ebff;}#sk-container-id-1 div.sk-label input.sk-toggleable__control:checked~label.sk-toggleable__label {background-color: #d4ebff;}#sk-container-id-1 input.sk-hidden--visually {border: 0;clip: rect(1px 1px 1px 1px);clip: rect(1px, 1px, 1px, 1px);height: 1px;margin: -1px;overflow: hidden;padding: 0;position: absolute;width: 1px;}#sk-container-id-1 div.sk-estimator {font-family: monospace;background-color: #f0f8ff;border: 1px dotted black;border-radius: 0.25em;box-sizing: border-box;margin-bottom: 0.5em;}#sk-container-id-1 div.sk-estimator:hover {background-color: #d4ebff;}#sk-container-id-1 div.sk-parallel-item::after {content: \"\";width: 100%;border-bottom: 1px solid gray;flex-grow: 1;}#sk-container-id-1 div.sk-label:hover label.sk-toggleable__label {background-color: #d4ebff;}#sk-container-id-1 div.sk-serial::before {content: \"\";position: absolute;border-left: 1px solid gray;box-sizing: border-box;top: 0;bottom: 0;left: 50%;z-index: 0;}#sk-container-id-1 div.sk-serial {display: flex;flex-direction: column;align-items: center;background-color: white;padding-right: 0.2em;padding-left: 0.2em;position: relative;}#sk-container-id-1 div.sk-item {position: relative;z-index: 1;}#sk-container-id-1 div.sk-parallel {display: flex;align-items: stretch;justify-content: center;background-color: white;position: relative;}#sk-container-id-1 div.sk-item::before, #sk-container-id-1 div.sk-parallel-item::before {content: \"\";position: absolute;border-left: 1px solid gray;box-sizing: border-box;top: 0;bottom: 0;left: 50%;z-index: -1;}#sk-container-id-1 div.sk-parallel-item {display: flex;flex-direction: column;z-index: 1;position: relative;background-color: white;}#sk-container-id-1 div.sk-parallel-item:first-child::after {align-self: flex-end;width: 50%;}#sk-container-id-1 div.sk-parallel-item:last-child::after {align-self: flex-start;width: 50%;}#sk-container-id-1 div.sk-parallel-item:only-child::after {width: 0;}#sk-container-id-1 div.sk-dashed-wrapped {border: 1px dashed gray;margin: 0 0.4em 0.5em 0.4em;box-sizing: border-box;padding-bottom: 0.4em;background-color: white;}#sk-container-id-1 div.sk-label label {font-family: monospace;font-weight: bold;display: inline-block;line-height: 1.2em;}#sk-container-id-1 div.sk-label-container {text-align: center;}#sk-container-id-1 div.sk-container {/* jupyter's `normalize.less` sets `[hidden] { display: none; }` but bootstrap.min.css set `[hidden] { display: none !important; }` so we also need the `!important` here to be able to override the default hidden behavior on the sphinx rendered scikit-learn.org. See: https://github.com/scikit-learn/scikit-learn/issues/21755 */display: inline-block !important;position: relative;}#sk-container-id-1 div.sk-text-repr-fallback {display: none;}</style><div id=\"sk-container-id-1\" class=\"sk-top-container\"><div class=\"sk-text-repr-fallback\"><pre>GridSearchCV(estimator=SVC(),\n",
       "             param_grid=[{&#x27;C&#x27;: [1, 10, 100, 1000],\n",
       "                          &#x27;gamma&#x27;: [0.01, 0.001, 0.0001]}])</pre><b>In a Jupyter environment, please rerun this cell to show the HTML representation or trust the notebook. <br />On GitHub, the HTML representation is unable to render, please try loading this page with nbviewer.org.</b></div><div class=\"sk-container\" hidden><div class=\"sk-item sk-dashed-wrapped\"><div class=\"sk-label-container\"><div class=\"sk-label sk-toggleable\"><input class=\"sk-toggleable__control sk-hidden--visually\" id=\"sk-estimator-id-1\" type=\"checkbox\" ><label for=\"sk-estimator-id-1\" class=\"sk-toggleable__label sk-toggleable__label-arrow\">GridSearchCV</label><div class=\"sk-toggleable__content\"><pre>GridSearchCV(estimator=SVC(),\n",
       "             param_grid=[{&#x27;C&#x27;: [1, 10, 100, 1000],\n",
       "                          &#x27;gamma&#x27;: [0.01, 0.001, 0.0001]}])</pre></div></div></div><div class=\"sk-parallel\"><div class=\"sk-parallel-item\"><div class=\"sk-item\"><div class=\"sk-label-container\"><div class=\"sk-label sk-toggleable\"><input class=\"sk-toggleable__control sk-hidden--visually\" id=\"sk-estimator-id-2\" type=\"checkbox\" ><label for=\"sk-estimator-id-2\" class=\"sk-toggleable__label sk-toggleable__label-arrow\">estimator: SVC</label><div class=\"sk-toggleable__content\"><pre>SVC()</pre></div></div></div><div class=\"sk-serial\"><div class=\"sk-item\"><div class=\"sk-estimator sk-toggleable\"><input class=\"sk-toggleable__control sk-hidden--visually\" id=\"sk-estimator-id-3\" type=\"checkbox\" ><label for=\"sk-estimator-id-3\" class=\"sk-toggleable__label sk-toggleable__label-arrow\">SVC</label><div class=\"sk-toggleable__content\"><pre>SVC()</pre></div></div></div></div></div></div></div></div></div></div>"
      ],
      "text/plain": [
       "GridSearchCV(estimator=SVC(),\n",
       "             param_grid=[{'C': [1, 10, 100, 1000],\n",
       "                          'gamma': [0.01, 0.001, 0.0001]}])"
      ]
     },
     "execution_count": 4,
     "metadata": {},
     "output_type": "execute_result"
    }
   ],
   "source": [
    "grid_search.fit(x_train,y_train)"
   ]
  },
  {
   "cell_type": "code",
   "execution_count": 5,
   "id": "acce7105",
   "metadata": {
    "execution": {
     "iopub.execute_input": "2023-12-03T13:08:01.631942Z",
     "iopub.status.busy": "2023-12-03T13:08:01.631382Z",
     "iopub.status.idle": "2023-12-03T13:08:01.714626Z",
     "shell.execute_reply": "2023-12-03T13:08:01.713151Z"
    },
    "papermill": {
     "duration": 0.091931,
     "end_time": "2023-12-03T13:08:01.717847",
     "exception": false,
     "start_time": "2023-12-03T13:08:01.625916",
     "status": "completed"
    },
    "tags": []
   },
   "outputs": [
    {
     "name": "stdout",
     "output_type": "stream",
     "text": [
      "99.91789819376025%\n"
     ]
    }
   ],
   "source": [
    "#test performance\n",
    "best_estimator = grid_search.best_estimator_\n",
    "y_prediction = best_estimator.predict(x_test)\n",
    "score = accuracy_score(y_prediction, y_test) #loss function\n",
    "print(f\"{str(score*100)}%\")"
   ]
  },
  {
   "cell_type": "code",
   "execution_count": 6,
   "id": "b54d1901",
   "metadata": {
    "execution": {
     "iopub.execute_input": "2023-12-03T13:08:01.728693Z",
     "iopub.status.busy": "2023-12-03T13:08:01.728275Z",
     "iopub.status.idle": "2023-12-03T13:08:01.734882Z",
     "shell.execute_reply": "2023-12-03T13:08:01.733781Z"
    },
    "papermill": {
     "duration": 0.015378,
     "end_time": "2023-12-03T13:08:01.737764",
     "exception": false,
     "start_time": "2023-12-03T13:08:01.722386",
     "status": "completed"
    },
    "tags": []
   },
   "outputs": [],
   "source": [
    "import pickle\n",
    "pickle.dump(best_estimator, open(\"./model.p\",\"wb\"))"
   ]
  }
 ],
 "metadata": {
  "kaggle": {
   "accelerator": "none",
   "dataSources": [
    {
     "datasetId": 4100635,
     "sourceId": 7111623,
     "sourceType": "datasetVersion"
    }
   ],
   "dockerImageVersionId": 30587,
   "isGpuEnabled": false,
   "isInternetEnabled": false,
   "language": "python",
   "sourceType": "notebook"
  },
  "kernelspec": {
   "display_name": "Python 3",
   "language": "python",
   "name": "python3"
  },
  "language_info": {
   "codemirror_mode": {
    "name": "ipython",
    "version": 3
   },
   "file_extension": ".py",
   "mimetype": "text/x-python",
   "name": "python",
   "nbconvert_exporter": "python",
   "pygments_lexer": "ipython3",
   "version": "3.10.12"
  },
  "papermill": {
   "default_parameters": {},
   "duration": 271.831073,
   "end_time": "2023-12-03T13:08:02.468106",
   "environment_variables": {},
   "exception": null,
   "input_path": "__notebook__.ipynb",
   "output_path": "__notebook__.ipynb",
   "parameters": {},
   "start_time": "2023-12-03T13:03:30.637033",
   "version": "2.4.0"
  }
 },
 "nbformat": 4,
 "nbformat_minor": 5
}
