{
 "cells": [
  {
   "cell_type": "code",
   "execution_count": 119,
   "metadata": {
    "_cell_guid": "b1076dfc-b9ad-4769-8c92-a6c4dae69d19",
    "_uuid": "8f2839f25d086af736a60e9eeb907d3b93b6e0e5",
    "execution": {
     "iopub.execute_input": "2023-11-04T14:14:26.938885Z",
     "iopub.status.busy": "2023-11-04T14:14:26.938463Z",
     "iopub.status.idle": "2023-11-04T14:14:26.944079Z",
     "shell.execute_reply": "2023-11-04T14:14:26.943217Z",
     "shell.execute_reply.started": "2023-11-04T14:14:26.938854Z"
    }
   },
   "outputs": [],
   "source": [
    "#Neural Network from scratch, predict values through gradient descent\n",
    "import numpy as np\n",
    "import matplotlib.pyplot as plt"
   ]
  },
  {
   "cell_type": "code",
   "execution_count": 120,
   "metadata": {
    "execution": {
     "iopub.execute_input": "2023-11-04T14:14:26.952224Z",
     "iopub.status.busy": "2023-11-04T14:14:26.951816Z",
     "iopub.status.idle": "2023-11-04T14:14:26.965127Z",
     "shell.execute_reply": "2023-11-04T14:14:26.964262Z",
     "shell.execute_reply.started": "2023-11-04T14:14:26.952191Z"
    }
   },
   "outputs": [
    {
     "data": {
      "text/plain": [
       "(4, 2)"
      ]
     },
     "execution_count": 120,
     "metadata": {},
     "output_type": "execute_result"
    }
   ],
   "source": [
    "num_inputs = 2\n",
    "num_hidden = 5\n",
    "num_output = 1\n",
    "\n",
    "#weights randomise\n",
    "Why = np.random.randn(num_hidden,num_output) #(5,1)\n",
    "Wxh = np.random.randn(num_inputs,num_hidden) #(2,5)\n",
    "\n",
    "#bias randomise\n",
    "bx = np.zeros((1,num_hidden)) #(1,5)\n",
    "by = np.zeros((1,num_output)) #(1,1)\n",
    "\n",
    "#input data (XOR)\n",
    "X = np.array([[0,1],[1,0],[1,1],[0,0]]) #(4,2)\n",
    "y = np.array([[1],[1],[0],[0]]) #(4,1)\n",
    "\n",
    "X.shape"
   ]
  },
  {
   "cell_type": "code",
   "execution_count": 121,
   "metadata": {
    "execution": {
     "iopub.execute_input": "2023-11-04T14:14:26.967887Z",
     "iopub.status.busy": "2023-11-04T14:14:26.967262Z",
     "iopub.status.idle": "2023-11-04T14:14:26.977904Z",
     "shell.execute_reply": "2023-11-04T14:14:26.977102Z",
     "shell.execute_reply.started": "2023-11-04T14:14:26.967849Z"
    }
   },
   "outputs": [
    {
     "data": {
      "text/plain": [
       "(2, 5)"
      ]
     },
     "execution_count": 121,
     "metadata": {},
     "output_type": "execute_result"
    }
   ],
   "source": [
    "Wxh.shape"
   ]
  },
  {
   "cell_type": "code",
   "execution_count": 122,
   "metadata": {
    "execution": {
     "iopub.execute_input": "2023-11-04T14:14:26.980004Z",
     "iopub.status.busy": "2023-11-04T14:14:26.979337Z",
     "iopub.status.idle": "2023-11-04T14:14:26.998557Z",
     "shell.execute_reply": "2023-11-04T14:14:26.997584Z",
     "shell.execute_reply.started": "2023-11-04T14:14:26.979966Z"
    }
   },
   "outputs": [],
   "source": [
    "def sigmoid(z):\n",
    "    return 1/(1+np.exp(-z))\n",
    "\n",
    "def sigmoid_derivative(z):\n",
    "    return np.exp(z)/((1+np.exp(z))**2)\n",
    "\n",
    "def forward_prop(x,Wxh,Why):\n",
    "    z1 = np.dot(x,Wxh) + bx\n",
    "    a1 = sigmoid(z1)\n",
    "    z2 = np.dot(a1,Why) + by\n",
    "    y_hat = sigmoid(z2)\n",
    "    return z1,a1,z2,y_hat\n",
    "\n",
    "def backword_prop(y_hat, z1, a1, z2):\n",
    "    # dJ/d_Wxh = dJ/dy_hat . dy_hat/d_z2 . d_z2/dWyh\n",
    "    # dj_dWxh = (y-y_hat)*sigmoid_derivative(z2)*a1\n",
    "    delta2 = np.multiply(-(y-y_hat),sigmoid_derivative(z2))\n",
    "    dJ_dWhy = np.dot(a1.T, delta2)\n",
    "    \n",
    "    # dJ/d_Wyh = dJ/dy_hat . dy_hat/d_z2 . d_z2/d_a1 . d_a1/d_z1 . dz1/dWxh\n",
    "    # dj_dWhy = (y-y_hat)*sigmoid_derivative(z2)*W_hy*sigmoid_derivative(z1)*X\n",
    "    delta1 = np.dot(delta2,Why.T)*sigmoid_derivative(z1)\n",
    "    dJ_dWxh = np.dot(X.T, delta1) \n",
    "\n",
    "    return dJ_dWxh, dJ_dWhy\n",
    "'''\n",
    "    \n",
    "MAJOR CULPRIT FOR ERROR\n",
    "-----------------------------\n",
    "    delta1 = np.multiply(delta2,Why.T)\n",
    "    dj_dWhy = np.dot(X.T,delta1*sigmoid_derivative(z2))\n",
    "-----------------------------\n",
    "\n",
    "'''\n",
    "\n",
    "def cost_function(y,y_hat):\n",
    "    J = 0.5*sum((y-y_hat)**2) #there are only two different weights so n=2\n",
    "    return J\n",
    "    \n"
   ]
  },
  {
   "cell_type": "code",
   "execution_count": 123,
   "metadata": {},
   "outputs": [],
   "source": [
    "alpha = 0.01 #learning-rate\n",
    "num_iterations = 500000 #number of times the weights are changed"
   ]
  },
  {
   "cell_type": "code",
   "execution_count": 124,
   "metadata": {
    "execution": {
     "iopub.execute_input": "2023-11-04T14:15:01.360114Z",
     "iopub.status.busy": "2023-11-04T14:15:01.359711Z",
     "iopub.status.idle": "2023-11-04T14:15:01.409687Z",
     "shell.execute_reply": "2023-11-04T14:15:01.407245Z",
     "shell.execute_reply.started": "2023-11-04T14:15:01.360085Z"
    }
   },
   "outputs": [],
   "source": [
    "cost = []\n",
    "for i in range(num_iterations):\n",
    "    \n",
    "    #perform forward propagation and predict output\n",
    "    z1,a1,z2,y_hat = forward_prop(X,Wxh,Why)\n",
    "    \n",
    "    #perform backward propagation and calculate gradients\n",
    "    dJ_dWxh, dJ_dWhy = backword_prop(y_hat, z1, a1, z2)\n",
    "        \n",
    "    #update the weights\n",
    "    Wxh -= alpha * dJ_dWxh\n",
    "    Why -= alpha * dJ_dWhy\n",
    "    \n",
    "    #compute cost\n",
    "    c = cost_function(y, y_hat)\n",
    "    \n",
    "    #store the cost\n",
    "    cost.append(c)\n",
    "    "
   ]
  },
  {
   "cell_type": "code",
   "execution_count": 125,
   "metadata": {},
   "outputs": [
    {
     "data": {
      "text/plain": [
       "Text(0, 0.5, 'Cost')"
      ]
     },
     "execution_count": 125,
     "metadata": {},
     "output_type": "execute_result"
    },
    {
     "data": {
      "image/png": "[encoded data removed]",
      "text/plain": [
       "<Figure size 640x480 with 1 Axes>"
      ]
     },
     "metadata": {},
     "output_type": "display_data"
    }
   ],
   "source": [
    "plt.grid()\n",
    "plt.plot(range(num_iterations),cost)\n",
    "\n",
    "\n",
    "plt.title('Cost Function')\n",
    "plt.xlabel('Training Iterations')\n",
    "plt.ylabel('Cost')"
   ]
  },
  {
   "cell_type": "code",
   "execution_count": null,
   "metadata": {},
   "outputs": [],
   "source": []
  }
 ],
 "metadata": {
  "kernelspec": {
   "display_name": "Python 3 (ipykernel)",
   "language": "python",
   "name": "python3"
  },
  "language_info": {
   "codemirror_mode": {
    "name": "ipython",
    "version": 3
   },
   "file_extension": ".py",
   "mimetype": "text/x-python",
   "name": "python",
   "nbconvert_exporter": "python",
   "pygments_lexer": "ipython3",
   "version": "3.9.16"
  }
 },
 "nbformat": 4,
 "nbformat_minor": 4
}
